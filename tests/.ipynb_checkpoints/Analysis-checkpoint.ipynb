{
 "cells": [
  {
   "cell_type": "code",
   "execution_count": 16,
   "metadata": {
    "collapsed": true
   },
   "outputs": [],
   "source": [
    "import sys, os\n",
    "sys.path.append(\"../..\")\n",
    "sys.path.append(\"..\")\n",
    "sys.path.append(os.getcwd())\n",
    "\n",
    "from matplotlib import pyplot as plt\n",
    "import numpy as np\n",
    "import pandas as pd\n",
    "import copy\n",
    "\n",
    "import random\n",
    "from numpy.linalg import svd, matrix_rank, norm\n",
    "from sklearn import linear_model\n",
    "import pickle"
   ]
  },
  {
   "cell_type": "code",
   "execution_count": 135,
   "metadata": {
    "collapsed": true
   },
   "outputs": [],
   "source": [
    "\n",
    "def mse(y, y_pred):\n",
    "    # y, y_pred are df\n",
    "    return ((y - y_pred) ** 2).mean(axis=1)\n",
    "\n",
    "def rmse(y, y_pred):\n",
    "    # y, y_pred are df\n",
    "    return np.sqrt(((y - y_pred) ** 2).mean(axis=1))\n",
    "\n",
    "def mape_vector(y, y_pred):\n",
    "    # y, y_pred are vector\n",
    "    mask = (y != 0)\n",
    "    return np.mean(np.abs((y - y_pred)[mask] / y[mask]))\n",
    "\n",
    "def mape(y, y_pred):\n",
    "    # y, y_pred are df\n",
    "    n = y.shape[0]\n",
    "    keys = y.index\n",
    "    df_return = pd.DataFrame(index = keys, columns =[\"MAPE\"])\n",
    "    for i in range(n):\n",
    "        y1 = y.iloc[i,:]\n",
    "        y_pred1 = y_pred.iloc[i,:]\n",
    "        df_return.loc[keys[i],] = mape_vector(y1, y_pred1)\n",
    "    return df_return\n"
   ]
  },
  {
   "cell_type": "code",
   "execution_count": 149,
   "metadata": {
    "collapsed": true
   },
   "outputs": [],
   "source": [
    "def mergeDFlist(list1, list2):\n",
    "    merged_list = []\n",
    "    n = len(list1)\n",
    "    for i in range(n):\n",
    "        merged = pd.concat([list1[i],list2[i]], axis=0)\n",
    "        merged_list.append(merged)\n",
    "    return merged_list\n",
    "        \n",
    "class analysis:\n",
    "    def __init__(self, df_true, df_pred_list, T_0s):\n",
    "        self.true = df_true\n",
    "        self.pred = df_pred_list\n",
    "        self.T_0s = T_0s\n",
    "        self.mse_list = []\n",
    "        self.rmse_list = []\n",
    "        self.mape_list = []\n",
    "    \n",
    "    def run(self):\n",
    "        self.mse_list = []\n",
    "        self.rmse_list = []\n",
    "        self.mape_list = []\n",
    "        for i in range(len(T_0s)):\n",
    "            T_0 = T_0s[i]\n",
    "            y = self.true.iloc[:,T_0:]\n",
    "            y_pred = self.pred[i].iloc[:,T_0:T]\n",
    "\n",
    "            df_mse = mse(y,y_pred)\n",
    "            df_rmse = rmse(y,y_pred)\n",
    "            df_mape = mape(y,y_pred)\n",
    "            self.mse_list.append(df_mse)\n",
    "            self.rmse_list.append(df_rmse)\n",
    "            self.mape_list.append(df_mape)    \n",
    "\n",
    "            print(\"*** Training Percentage\", train_pcts[i], \"***\")\n",
    "            print(\"MSE : \", df_mse.mean())\n",
    "            print(\"RMSE: \", df_rmse.mean())    \n",
    "            print(\"MAPE: \",df_mape.mean().values[0])\n",
    "        "
   ]
  },
  {
   "cell_type": "markdown",
   "metadata": {},
   "source": [
    "# No HSVT; saeyoung code"
   ]
  },
  {
   "cell_type": "code",
   "execution_count": 8,
   "metadata": {
    "collapsed": true
   },
   "outputs": [],
   "source": [
    "# experiment prarams\n",
    "train_pcts = [0.1, 0.25, 0.5, 0.75, 0.9]\n",
    "freq = 15\n",
    "T = int(12*60*4/freq + 1)\n",
    "T_0s = [int(np.ceil(train_pct * T)) for train_pct in train_pcts]\n",
    "singvals= 0\n",
    "donor_ids = np.array(pd.read_pickle('../data/nba-hosoi/donor_ids.pkl'))\n",
    "target_ids = np.array(pd.read_pickle('../data/nba-hosoi/target_ids.pkl'))\n",
    "metrics = ['points','assists', 'rebounds', 'bs', 'fouls']\n",
    "\n",
    "# true\n",
    "home_true = pd.read_pickle(\"../data/nba-hosoi/target_home_points.pkl\")\n",
    "away_true = pd.read_pickle(\"../data/nba-hosoi/target_away_points.pkl\")\n",
    "\n",
    "# pred\n",
    "filename = \"result_team/saeyoung_no_hsvt_home.pkl\"\n",
    "with open(filename, 'rb') as f:\n",
    "    home_pred = pickle.load(f)\n",
    "\n",
    "filename = \"result_team/saeyoung_no_hsvt_away.pkl\"\n",
    "with open(filename, 'rb') as f:\n",
    "    away_pred = pickle.load(f)"
   ]
  },
  {
   "cell_type": "code",
   "execution_count": null,
   "metadata": {
    "scrolled": true
   },
   "outputs": [],
   "source": [
    "all_true = pd.concat([home_true, away_true], axis=0)\n",
    "all_pred = mergeDFlist(home_pred, away_pred)\n",
    "\n",
    "separateMetricsNohsvt = analysis(all_true, all_pred, T_0s)\n",
    "separateMetricsNohsvt.run()"
   ]
  },
  {
   "cell_type": "code",
   "execution_count": null,
   "metadata": {},
   "outputs": [],
   "source": [
    "print(\"Home\")\n",
    "separateMetricsNohsvt_home = analysis(home_true, home_pred, T_0s)\n",
    "separateMetricsNohsvt_home.run()"
   ]
  },
  {
   "cell_type": "code",
   "execution_count": null,
   "metadata": {},
   "outputs": [],
   "source": [
    "print(\"Away\")\n",
    "separateMetricsNohsvt_away = analysis(away_true, away_pred, T_0s)\n",
    "separateMetricsNohsvt_away.run()"
   ]
  },
  {
   "cell_type": "code",
   "execution_count": null,
   "metadata": {
    "collapsed": true
   },
   "outputs": [],
   "source": []
  },
  {
   "cell_type": "code",
   "execution_count": null,
   "metadata": {
    "collapsed": true
   },
   "outputs": [],
   "source": []
  },
  {
   "cell_type": "code",
   "execution_count": null,
   "metadata": {
    "collapsed": true
   },
   "outputs": [],
   "source": []
  },
  {
   "cell_type": "code",
   "execution_count": null,
   "metadata": {
    "collapsed": true
   },
   "outputs": [],
   "source": []
  },
  {
   "cell_type": "code",
   "execution_count": null,
   "metadata": {
    "collapsed": true
   },
   "outputs": [],
   "source": []
  }
 ],
 "metadata": {
  "kernelspec": {
   "display_name": "Python 3",
   "language": "python",
   "name": "python3"
  },
  "language_info": {
   "codemirror_mode": {
    "name": "ipython",
    "version": 3
   },
   "file_extension": ".py",
   "mimetype": "text/x-python",
   "name": "python",
   "nbconvert_exporter": "python",
   "pygments_lexer": "ipython3",
   "version": "3.6.7"
  }
 },
 "nbformat": 4,
 "nbformat_minor": 2
}
